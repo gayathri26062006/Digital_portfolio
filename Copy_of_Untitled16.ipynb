{
  "nbformat": 4,
  "nbformat_minor": 0,
  "metadata": {
    "colab": {
      "provenance": [],
      "authorship_tag": "ABX9TyPlmo0bJiyzRhQwYe1E3Yxc",
      "include_colab_link": true
    },
    "kernelspec": {
      "name": "python3",
      "display_name": "Python 3"
    },
    "language_info": {
      "name": "python"
    }
  },
  "cells": [
    {
      "cell_type": "markdown",
      "metadata": {
        "id": "view-in-github",
        "colab_type": "text"
      },
      "source": [
        "<a href=\"https://colab.research.google.com/github/gayathri26062006/Digital_portfolio/blob/main/Copy_of_Untitled16.ipynb\" target=\"_parent\"><img src=\"https://colab.research.google.com/assets/colab-badge.svg\" alt=\"Open In Colab\"/></a>"
      ]
    },
    {
      "cell_type": "code",
      "execution_count": null,
      "metadata": {
        "colab": {
          "base_uri": "https://localhost:8080/"
        },
        "id": "IupJThYFoHPy",
        "outputId": "c8b381f0-d332-47c1-fbce-7045ad6cae48"
      },
      "outputs": [
        {
          "output_type": "stream",
          "name": "stdout",
          "text": [
            "Random number: 55\n"
          ]
        }
      ],
      "source": [
        "import random\n",
        "num=random.randint(1,100)\n",
        "print(\"Random number:\",num)"
      ]
    },
    {
      "cell_type": "code",
      "source": [
        "x=int(input(\"enter a value\"))\n",
        "while x<=6:\n",
        "  print(x)\n",
        "  x+=1\n"
      ],
      "metadata": {
        "colab": {
          "base_uri": "https://localhost:8080/"
        },
        "id": "QXzHfL4ZpZxL",
        "outputId": "4e22503a-0559-419c-ccef-b7fb6f1a6e68"
      },
      "execution_count": null,
      "outputs": [
        {
          "output_type": "stream",
          "name": "stdout",
          "text": [
            "enter a value3\n",
            "3\n",
            "4\n",
            "5\n",
            "6\n"
          ]
        }
      ]
    },
    {
      "cell_type": "code",
      "source": [
        "a = 1\n",
        "b = 10\n",
        "\n",
        "for i in range(a, b):\n",
        "    if i == 5:\n",
        "        break\n",
        "    print(i)\n"
      ],
      "metadata": {
        "colab": {
          "base_uri": "https://localhost:8080/"
        },
        "id": "-VYHV7trqexS",
        "outputId": "a02fe56e-c03f-4e17-e585-3eba448034e1"
      },
      "execution_count": null,
      "outputs": [
        {
          "output_type": "stream",
          "name": "stdout",
          "text": [
            "1\n",
            "2\n",
            "3\n",
            "4\n"
          ]
        }
      ]
    },
    {
      "cell_type": "code",
      "source": [
        "for i in range(1, 20):\n",
        "    if i == 15:\n",
        "        continue\n",
        "    print(i)\n"
      ],
      "metadata": {
        "colab": {
          "base_uri": "https://localhost:8080/"
        },
        "id": "AjEw45eXslbP",
        "outputId": "6f41fda4-dd8d-45f9-d606-4c34c66fd422"
      },
      "execution_count": null,
      "outputs": [
        {
          "output_type": "stream",
          "name": "stdout",
          "text": [
            "1\n",
            "2\n",
            "3\n",
            "4\n",
            "5\n",
            "6\n",
            "7\n",
            "8\n",
            "9\n",
            "10\n",
            "11\n",
            "12\n",
            "13\n",
            "14\n",
            "16\n",
            "17\n",
            "18\n",
            "19\n"
          ]
        }
      ]
    },
    {
      "cell_type": "code",
      "source": [
        "def add(a, b):\n",
        "    print(\"sum:\", a + b)\n",
        "    print(\"sub:\", a - b)\n",
        "    print(\"multiplication:\", a * b)\n",
        "    print(\"division:\", a / b)\n",
        "    print(\"modulus:\", a % b)\n",
        "    print(\"floor division:\", a // b)\n",
        "\n",
        "# Call the function\n",
        "add(10, 5)\n"
      ],
      "metadata": {
        "colab": {
          "base_uri": "https://localhost:8080/"
        },
        "id": "o9w8KIQTtN6B",
        "outputId": "8c64f1fc-0887-43d1-8220-a4291cfa708e"
      },
      "execution_count": null,
      "outputs": [
        {
          "output_type": "stream",
          "name": "stdout",
          "text": [
            "sum: 15\n",
            "sub: 5\n",
            "multiplication: 50\n",
            "division: 2.0\n",
            "modulus: 0\n",
            "floor division: 2\n"
          ]
        }
      ]
    },
    {
      "cell_type": "code",
      "source": [
        "class Sample:\n",
        "    def greet(self):\n",
        "        print(\"welcome to python world\")\n",
        "\n",
        "# Create object and call the method\n",
        "obj = Sample()\n",
        "obj.greet()\n"
      ],
      "metadata": {
        "colab": {
          "base_uri": "https://localhost:8080/"
        },
        "id": "6bw0EcNRvCY5",
        "outputId": "4024543d-413f-47e1-aae3-a2499065c780"
      },
      "execution_count": null,
      "outputs": [
        {
          "output_type": "stream",
          "name": "stdout",
          "text": [
            "welcome to python world\n"
          ]
        }
      ]
    },
    {
      "cell_type": "code",
      "source": [
        "try:\n",
        "  num=str(input(\"enter a string:\"))\n",
        "  print(\"you entered\",num)\n",
        "\n",
        "except ValueError:\n",
        "  print(\"Invalid input. Please enter a string\")\n"
      ],
      "metadata": {
        "colab": {
          "base_uri": "https://localhost:8080/"
        },
        "id": "tneDzqbrwxO9",
        "outputId": "58d86cf5-83e6-4bd7-82f1-6942214d4401"
      },
      "execution_count": null,
      "outputs": [
        {
          "output_type": "stream",
          "name": "stdout",
          "text": [
            "enter a string:python\n",
            "you entered python\n"
          ]
        }
      ]
    },
    {
      "cell_type": "code",
      "source": [
        "car = {\n",
        "    \"car name\":\"Audi\",\n",
        "    \"car model\":\"Audi A3\",\n",
        "    \"car colour\":\"White\",\n",
        "    \"car mileage\":\"17km/l\"\n",
        "}\n",
        "print(car[\"car model\"])"
      ],
      "metadata": {
        "colab": {
          "base_uri": "https://localhost:8080/"
        },
        "id": "YAgluYw5xOY7",
        "outputId": "8d64648d-83b2-4465-c2b6-068de572ba19"
      },
      "execution_count": null,
      "outputs": [
        {
          "output_type": "stream",
          "name": "stdout",
          "text": [
            "Audi A3\n"
          ]
        }
      ]
    }
  ]
}